{
  "nbformat": 4,
  "nbformat_minor": 0,
  "metadata": {
    "colab": {
      "name": "NNDL - Autoencoders #1.ipynb",
      "provenance": [],
      "authorship_tag": "ABX9TyOh7e2Mf15SPAZJekf5pPZI",
      "include_colab_link": true
    },
    "kernelspec": {
      "name": "python3",
      "display_name": "Python 3"
    },
    "accelerator": "GPU"
  },
  "cells": [
    {
      "cell_type": "markdown",
      "metadata": {
        "id": "view-in-github",
        "colab_type": "text"
      },
      "source": [
        "<a href=\"https://colab.research.google.com/github/afrincon/redes-neuronales-uao/blob/main/NNDL_Autoencoders_1.ipynb\" target=\"_parent\"><img src=\"https://colab.research.google.com/assets/colab-badge.svg\" alt=\"Open In Colab\"/></a>"
      ]
    },
    {
      "cell_type": "code",
      "metadata": {
        "id": "oWoRwcfekci_"
      },
      "source": [
        "# Download libraries\n",
        "!pip install mglearn"
      ],
      "execution_count": null,
      "outputs": []
    },
    {
      "cell_type": "code",
      "metadata": {
        "id": "nhgZsaYpdvY7"
      },
      "source": [
        "# Import libraries\n",
        "import tensorflow as tf\n",
        "import numpy as np\n",
        "import pandas as pd\n",
        "import matplotlib.pyplot as plt\n",
        "import os\n",
        "import mglearn\n",
        "\n",
        "from tensorflow.keras.models import Model\n",
        "\n",
        "from tensorflow.keras.utils import plot_model"
      ],
      "execution_count": 2,
      "outputs": []
    },
    {
      "cell_type": "code",
      "metadata": {
        "colab": {
          "base_uri": "https://localhost:8080/"
        },
        "id": "r63PbYtEh2uI",
        "outputId": "a0070f4a-e38d-48b8-8e10-47c37b9eef62"
      },
      "source": [
        "# Testing if GPU is enabled\n",
        "device_name = tf.test.gpu_device_name()\n",
        "if device_name != '/device:GPU:0':\n",
        "  raise SystemError('GPU device not found')\n",
        "print('Found GPU at: {}'.format(device_name))"
      ],
      "execution_count": 3,
      "outputs": [
        {
          "output_type": "stream",
          "text": [
            "Found GPU at: /device:GPU:0\n"
          ],
          "name": "stdout"
        }
      ]
    },
    {
      "cell_type": "code",
      "metadata": {
        "id": "PGcOj5T1itLW"
      },
      "source": [
        "# this is the size of our encoded representations\n",
        "encoding_dim = 32  # 32 floats -> compression of factor 24.5, assuming the input is 784 floats\n",
        "\n",
        "# this is our input placeholder\n",
        "input_img = tf.keras.Input(shape=(784,),name='Entrada')\n",
        "# \"encoded\" is the encoded representation of the input\n",
        "encoded = tf.keras.layers.Dense(encoding_dim, activation='relu')(input_img)\n",
        "# \"decoded\" is the lossy reconstruction of the input\n",
        "decoded = tf.keras.layers.Dense(784, activation='sigmoid', name='Salida')(encoded)\n",
        "\n",
        "# this model maps an input to its reconstruction\n",
        "autoencoder = Model(input_img, decoded)"
      ],
      "execution_count": 4,
      "outputs": []
    },
    {
      "cell_type": "code",
      "metadata": {
        "id": "OEw6VQM7izfI"
      },
      "source": [
        "# this model maps an input to its encoded representation\n",
        "encoder = Model(input_img, encoded)"
      ],
      "execution_count": 5,
      "outputs": []
    },
    {
      "cell_type": "code",
      "metadata": {
        "id": "SYpx2mpxi29Z"
      },
      "source": [
        "# create a placeholder for an encoded (32-dimensional) input\n",
        "encoded_input = tf.keras.Input(shape=(encoding_dim,))\n",
        "# retrieve the last layer of the autoencoder model\n",
        "decoder_layer = autoencoder.layers[-1]\n",
        "# create the decoder model\n",
        "decoder = Model(encoded_input, decoder_layer(encoded_input))"
      ],
      "execution_count": 6,
      "outputs": []
    },
    {
      "cell_type": "code",
      "metadata": {
        "colab": {
          "base_uri": "https://localhost:8080/",
          "height": 550
        },
        "id": "XDD7tPNQi8lx",
        "outputId": "7a24f65b-37d1-4f28-851e-e36c562eff31"
      },
      "source": [
        "autoencoder.compile(optimizer='adam', loss='binary_crossentropy')\n",
        "\n",
        "autoencoder.summary()\n",
        "plot_model(autoencoder, to_file='Autoencoder.png', show_shapes=True)"
      ],
      "execution_count": 7,
      "outputs": [
        {
          "output_type": "stream",
          "text": [
            "Model: \"functional_1\"\n",
            "_________________________________________________________________\n",
            "Layer (type)                 Output Shape              Param #   \n",
            "=================================================================\n",
            "Entrada (InputLayer)         [(None, 784)]             0         \n",
            "_________________________________________________________________\n",
            "dense (Dense)                (None, 32)                25120     \n",
            "_________________________________________________________________\n",
            "Salida (Dense)               (None, 784)               25872     \n",
            "=================================================================\n",
            "Total params: 50,992\n",
            "Trainable params: 50,992\n",
            "Non-trainable params: 0\n",
            "_________________________________________________________________\n"
          ],
          "name": "stdout"
        },
        {
          "output_type": "execute_result",
          "data": {
            "image/png": "[encoded data removed]",
            "text/plain": [
              "<IPython.core.display.Image object>"
            ]
          },
          "metadata": {
            "tags": []
          },
          "execution_count": 7
        }
      ]
    },
    {
      "cell_type": "code",
      "metadata": {
        "colab": {
          "base_uri": "https://localhost:8080/"
        },
        "id": "4zTJK6cSi_Ky",
        "outputId": "2d2098cd-0ae2-47a4-a2a3-e7306746639c"
      },
      "source": [
        "from keras.datasets import mnist\n",
        "import numpy as np\n",
        "(x_train, _), (x_test, _) = mnist.load_data()"
      ],
      "execution_count": 8,
      "outputs": [
        {
          "output_type": "stream",
          "text": [
            "Downloading data from https://storage.googleapis.com/tensorflow/tf-keras-datasets/mnist.npz\n",
            "11493376/11490434 [==============================] - 0s 0us/step\n"
          ],
          "name": "stdout"
        }
      ]
    },
    {
      "cell_type": "code",
      "metadata": {
        "colab": {
          "base_uri": "https://localhost:8080/"
        },
        "id": "jO69N06sjDNI",
        "outputId": "988280a0-11e7-4d3d-fcbf-0e6e79b2f7aa"
      },
      "source": [
        "x_train = x_train.astype('float32') / 255.\n",
        "x_test = x_test.astype('float32') / 255.\n",
        "x_train = x_train.reshape((len(x_train), np.prod(x_train.shape[1:])))\n",
        "x_test = x_test.reshape((len(x_test), np.prod(x_test.shape[1:])))\n",
        "print (x_train.shape)\n",
        "print (x_test.shape)"
      ],
      "execution_count": 9,
      "outputs": [
        {
          "output_type": "stream",
          "text": [
            "(60000, 784)\n",
            "(10000, 784)\n"
          ],
          "name": "stdout"
        }
      ]
    },
    {
      "cell_type": "code",
      "metadata": {
        "colab": {
          "base_uri": "https://localhost:8080/"
        },
        "id": "ceZxt7sVjHMZ",
        "outputId": "86eb1ab9-b898-474e-f9d1-365b2d916a11"
      },
      "source": [
        "autoencoder.fit(x_train, x_train,\n",
        "                epochs=200,\n",
        "                batch_size=256,\n",
        "                shuffle=True,\n",
        "                validation_data=(x_test, x_test))"
      ],
      "execution_count": 11,
      "outputs": [
        {
          "output_type": "stream",
          "text": [
            "Epoch 1/200\n",
            "235/235 [==============================] - 1s 4ms/step - loss: 0.2796 - val_loss: 0.1913\n",
            "Epoch 2/200\n",
            "235/235 [==============================] - 1s 3ms/step - loss: 0.1711 - val_loss: 0.1524\n",
            "Epoch 3/200\n",
            "235/235 [==============================] - 1s 3ms/step - loss: 0.1435 - val_loss: 0.1333\n",
            "Epoch 4/200\n",
            "235/235 [==============================] - 1s 3ms/step - loss: 0.1287 - val_loss: 0.1220\n",
            "Epoch 5/200\n",
            "235/235 [==============================] - 1s 3ms/step - loss: 0.1193 - val_loss: 0.1142\n",
            "Epoch 6/200\n",
            "235/235 [==============================] - 1s 3ms/step - loss: 0.1124 - val_loss: 0.1083\n",
            "Epoch 7/200\n",
            "235/235 [==============================] - 1s 3ms/step - loss: 0.1071 - val_loss: 0.1036\n",
            "Epoch 8/200\n",
            "235/235 [==============================] - 1s 3ms/step - loss: 0.1032 - val_loss: 0.1004\n",
            "Epoch 9/200\n",
            "235/235 [==============================] - 1s 3ms/step - loss: 0.1003 - val_loss: 0.0978\n",
            "Epoch 10/200\n",
            "235/235 [==============================] - 1s 3ms/step - loss: 0.0982 - val_loss: 0.0962\n",
            "Epoch 11/200\n",
            "235/235 [==============================] - 1s 3ms/step - loss: 0.0968 - val_loss: 0.0950\n",
            "Epoch 12/200\n",
            "235/235 [==============================] - 1s 3ms/step - loss: 0.0958 - val_loss: 0.0943\n",
            "Epoch 13/200\n",
            "235/235 [==============================] - 1s 3ms/step - loss: 0.0952 - val_loss: 0.0938\n",
            "Epoch 14/200\n",
            "235/235 [==============================] - 1s 3ms/step - loss: 0.0948 - val_loss: 0.0934\n",
            "Epoch 15/200\n",
            "235/235 [==============================] - 1s 3ms/step - loss: 0.0945 - val_loss: 0.0931\n",
            "Epoch 16/200\n",
            "235/235 [==============================] - 1s 3ms/step - loss: 0.0942 - val_loss: 0.0929\n",
            "Epoch 17/200\n",
            "235/235 [==============================] - 1s 3ms/step - loss: 0.0940 - val_loss: 0.0927\n",
            "Epoch 18/200\n",
            "235/235 [==============================] - 1s 3ms/step - loss: 0.0939 - val_loss: 0.0926\n",
            "Epoch 19/200\n",
            "235/235 [==============================] - 1s 3ms/step - loss: 0.0937 - val_loss: 0.0925\n",
            "Epoch 20/200\n",
            "235/235 [==============================] - 1s 3ms/step - loss: 0.0936 - val_loss: 0.0924\n",
            "Epoch 21/200\n",
            "235/235 [==============================] - 1s 3ms/step - loss: 0.0935 - val_loss: 0.0923\n",
            "Epoch 22/200\n",
            "235/235 [==============================] - 1s 3ms/step - loss: 0.0934 - val_loss: 0.0923\n",
            "Epoch 23/200\n",
            "235/235 [==============================] - 1s 3ms/step - loss: 0.0933 - val_loss: 0.0921\n",
            "Epoch 24/200\n",
            "235/235 [==============================] - 1s 3ms/step - loss: 0.0933 - val_loss: 0.0921\n",
            "Epoch 25/200\n",
            "235/235 [==============================] - 1s 3ms/step - loss: 0.0932 - val_loss: 0.0920\n",
            "Epoch 26/200\n",
            "235/235 [==============================] - 1s 3ms/step - loss: 0.0932 - val_loss: 0.0921\n",
            "Epoch 27/200\n",
            "235/235 [==============================] - 1s 3ms/step - loss: 0.0931 - val_loss: 0.0919\n",
            "Epoch 28/200\n",
            "235/235 [==============================] - 1s 3ms/step - loss: 0.0931 - val_loss: 0.0920\n",
            "Epoch 29/200\n",
            "235/235 [==============================] - 1s 3ms/step - loss: 0.0930 - val_loss: 0.0920\n",
            "Epoch 30/200\n",
            "235/235 [==============================] - 1s 3ms/step - loss: 0.0930 - val_loss: 0.0918\n",
            "Epoch 31/200\n",
            "235/235 [==============================] - 1s 3ms/step - loss: 0.0930 - val_loss: 0.0918\n",
            "Epoch 32/200\n",
            "235/235 [==============================] - 1s 3ms/step - loss: 0.0929 - val_loss: 0.0919\n",
            "Epoch 33/200\n",
            "235/235 [==============================] - 1s 3ms/step - loss: 0.0929 - val_loss: 0.0919\n",
            "Epoch 34/200\n",
            "235/235 [==============================] - 1s 3ms/step - loss: 0.0929 - val_loss: 0.0918\n",
            "Epoch 35/200\n",
            "235/235 [==============================] - 1s 3ms/step - loss: 0.0929 - val_loss: 0.0918\n",
            "Epoch 36/200\n",
            "235/235 [==============================] - 1s 3ms/step - loss: 0.0929 - val_loss: 0.0917\n",
            "Epoch 37/200\n",
            "235/235 [==============================] - 1s 3ms/step - loss: 0.0928 - val_loss: 0.0917\n",
            "Epoch 38/200\n",
            "235/235 [==============================] - 1s 3ms/step - loss: 0.0928 - val_loss: 0.0917\n",
            "Epoch 39/200\n",
            "235/235 [==============================] - 1s 3ms/step - loss: 0.0928 - val_loss: 0.0918\n",
            "Epoch 40/200\n",
            "235/235 [==============================] - 1s 3ms/step - loss: 0.0928 - val_loss: 0.0916\n",
            "Epoch 41/200\n",
            "235/235 [==============================] - 1s 3ms/step - loss: 0.0928 - val_loss: 0.0917\n",
            "Epoch 42/200\n",
            "235/235 [==============================] - 1s 3ms/step - loss: 0.0928 - val_loss: 0.0917\n",
            "Epoch 43/200\n",
            "235/235 [==============================] - 1s 3ms/step - loss: 0.0927 - val_loss: 0.0916\n",
            "Epoch 44/200\n",
            "235/235 [==============================] - 1s 3ms/step - loss: 0.0927 - val_loss: 0.0916\n",
            "Epoch 45/200\n",
            "235/235 [==============================] - 1s 3ms/step - loss: 0.0927 - val_loss: 0.0916\n",
            "Epoch 46/200\n",
            "235/235 [==============================] - 1s 3ms/step - loss: 0.0927 - val_loss: 0.0916\n",
            "Epoch 47/200\n",
            "235/235 [==============================] - 1s 3ms/step - loss: 0.0927 - val_loss: 0.0916\n",
            "Epoch 48/200\n",
            "235/235 [==============================] - 1s 3ms/step - loss: 0.0927 - val_loss: 0.0916\n",
            "Epoch 49/200\n",
            "235/235 [==============================] - 1s 3ms/step - loss: 0.0927 - val_loss: 0.0916\n",
            "Epoch 50/200\n",
            "235/235 [==============================] - 1s 3ms/step - loss: 0.0927 - val_loss: 0.0916\n",
            "Epoch 51/200\n",
            "235/235 [==============================] - 1s 3ms/step - loss: 0.0926 - val_loss: 0.0915\n",
            "Epoch 52/200\n",
            "235/235 [==============================] - 1s 3ms/step - loss: 0.0926 - val_loss: 0.0915\n",
            "Epoch 53/200\n",
            "235/235 [==============================] - 1s 3ms/step - loss: 0.0926 - val_loss: 0.0915\n",
            "Epoch 54/200\n",
            "235/235 [==============================] - 1s 3ms/step - loss: 0.0926 - val_loss: 0.0915\n",
            "Epoch 55/200\n",
            "235/235 [==============================] - 1s 3ms/step - loss: 0.0926 - val_loss: 0.0915\n",
            "Epoch 56/200\n",
            "235/235 [==============================] - 1s 3ms/step - loss: 0.0926 - val_loss: 0.0915\n",
            "Epoch 57/200\n",
            "235/235 [==============================] - 1s 3ms/step - loss: 0.0926 - val_loss: 0.0915\n",
            "Epoch 58/200\n",
            "235/235 [==============================] - 1s 3ms/step - loss: 0.0926 - val_loss: 0.0916\n",
            "Epoch 59/200\n",
            "235/235 [==============================] - 1s 3ms/step - loss: 0.0926 - val_loss: 0.0916\n",
            "Epoch 60/200\n",
            "235/235 [==============================] - 1s 3ms/step - loss: 0.0925 - val_loss: 0.0915\n",
            "Epoch 61/200\n",
            "235/235 [==============================] - 1s 3ms/step - loss: 0.0925 - val_loss: 0.0914\n",
            "Epoch 62/200\n",
            "235/235 [==============================] - 1s 3ms/step - loss: 0.0925 - val_loss: 0.0915\n",
            "Epoch 63/200\n",
            "235/235 [==============================] - 1s 3ms/step - loss: 0.0925 - val_loss: 0.0914\n",
            "Epoch 64/200\n",
            "235/235 [==============================] - 1s 3ms/step - loss: 0.0925 - val_loss: 0.0915\n",
            "Epoch 65/200\n",
            "235/235 [==============================] - 1s 3ms/step - loss: 0.0925 - val_loss: 0.0914\n",
            "Epoch 66/200\n",
            "235/235 [==============================] - 1s 3ms/step - loss: 0.0925 - val_loss: 0.0915\n",
            "Epoch 67/200\n",
            "235/235 [==============================] - 1s 3ms/step - loss: 0.0925 - val_loss: 0.0914\n",
            "Epoch 68/200\n",
            "235/235 [==============================] - 1s 3ms/step - loss: 0.0925 - val_loss: 0.0914\n",
            "Epoch 69/200\n",
            "235/235 [==============================] - 1s 3ms/step - loss: 0.0925 - val_loss: 0.0914\n",
            "Epoch 70/200\n",
            "235/235 [==============================] - 1s 3ms/step - loss: 0.0925 - val_loss: 0.0914\n",
            "Epoch 71/200\n",
            "235/235 [==============================] - 1s 3ms/step - loss: 0.0925 - val_loss: 0.0914\n",
            "Epoch 72/200\n",
            "235/235 [==============================] - 1s 3ms/step - loss: 0.0925 - val_loss: 0.0914\n",
            "Epoch 73/200\n",
            "235/235 [==============================] - 1s 3ms/step - loss: 0.0925 - val_loss: 0.0914\n",
            "Epoch 74/200\n",
            "235/235 [==============================] - 1s 3ms/step - loss: 0.0924 - val_loss: 0.0914\n",
            "Epoch 75/200\n",
            "235/235 [==============================] - 1s 3ms/step - loss: 0.0924 - val_loss: 0.0913\n",
            "Epoch 76/200\n",
            "235/235 [==============================] - 1s 3ms/step - loss: 0.0924 - val_loss: 0.0914\n",
            "Epoch 77/200\n",
            "235/235 [==============================] - 1s 4ms/step - loss: 0.0924 - val_loss: 0.0914\n",
            "Epoch 78/200\n",
            "235/235 [==============================] - 1s 3ms/step - loss: 0.0924 - val_loss: 0.0914\n",
            "Epoch 79/200\n",
            "235/235 [==============================] - 1s 3ms/step - loss: 0.0924 - val_loss: 0.0913\n",
            "Epoch 80/200\n",
            "235/235 [==============================] - 1s 3ms/step - loss: 0.0924 - val_loss: 0.0914\n",
            "Epoch 81/200\n",
            "235/235 [==============================] - 1s 3ms/step - loss: 0.0924 - val_loss: 0.0913\n",
            "Epoch 82/200\n",
            "235/235 [==============================] - 1s 3ms/step - loss: 0.0924 - val_loss: 0.0913\n",
            "Epoch 83/200\n",
            "235/235 [==============================] - 1s 3ms/step - loss: 0.0924 - val_loss: 0.0913\n",
            "Epoch 84/200\n",
            "235/235 [==============================] - 1s 3ms/step - loss: 0.0924 - val_loss: 0.0913\n",
            "Epoch 85/200\n",
            "235/235 [==============================] - 1s 3ms/step - loss: 0.0924 - val_loss: 0.0914\n",
            "Epoch 86/200\n",
            "235/235 [==============================] - 1s 3ms/step - loss: 0.0924 - val_loss: 0.0913\n",
            "Epoch 87/200\n",
            "235/235 [==============================] - 1s 3ms/step - loss: 0.0923 - val_loss: 0.0913\n",
            "Epoch 88/200\n",
            "235/235 [==============================] - 1s 3ms/step - loss: 0.0924 - val_loss: 0.0913\n",
            "Epoch 89/200\n",
            "235/235 [==============================] - 1s 3ms/step - loss: 0.0924 - val_loss: 0.0914\n",
            "Epoch 90/200\n",
            "235/235 [==============================] - 1s 3ms/step - loss: 0.0923 - val_loss: 0.0914\n",
            "Epoch 91/200\n",
            "235/235 [==============================] - 1s 3ms/step - loss: 0.0923 - val_loss: 0.0913\n",
            "Epoch 92/200\n",
            "235/235 [==============================] - 1s 3ms/step - loss: 0.0923 - val_loss: 0.0913\n",
            "Epoch 93/200\n",
            "235/235 [==============================] - 1s 3ms/step - loss: 0.0923 - val_loss: 0.0913\n",
            "Epoch 94/200\n",
            "235/235 [==============================] - 1s 3ms/step - loss: 0.0923 - val_loss: 0.0913\n",
            "Epoch 95/200\n",
            "235/235 [==============================] - 1s 3ms/step - loss: 0.0923 - val_loss: 0.0913\n",
            "Epoch 96/200\n",
            "235/235 [==============================] - 1s 3ms/step - loss: 0.0923 - val_loss: 0.0913\n",
            "Epoch 97/200\n",
            "235/235 [==============================] - 1s 3ms/step - loss: 0.0923 - val_loss: 0.0913\n",
            "Epoch 98/200\n",
            "235/235 [==============================] - 1s 3ms/step - loss: 0.0923 - val_loss: 0.0913\n",
            "Epoch 99/200\n",
            "235/235 [==============================] - 1s 3ms/step - loss: 0.0923 - val_loss: 0.0912\n",
            "Epoch 100/200\n",
            "235/235 [==============================] - 1s 3ms/step - loss: 0.0923 - val_loss: 0.0912\n",
            "Epoch 101/200\n",
            "235/235 [==============================] - 1s 3ms/step - loss: 0.0923 - val_loss: 0.0912\n",
            "Epoch 102/200\n",
            "235/235 [==============================] - 1s 3ms/step - loss: 0.0923 - val_loss: 0.0912\n",
            "Epoch 103/200\n",
            "235/235 [==============================] - 1s 3ms/step - loss: 0.0923 - val_loss: 0.0912\n",
            "Epoch 104/200\n",
            "235/235 [==============================] - 1s 3ms/step - loss: 0.0923 - val_loss: 0.0912\n",
            "Epoch 105/200\n",
            "235/235 [==============================] - 1s 3ms/step - loss: 0.0923 - val_loss: 0.0912\n",
            "Epoch 106/200\n",
            "235/235 [==============================] - 1s 3ms/step - loss: 0.0923 - val_loss: 0.0912\n",
            "Epoch 107/200\n",
            "235/235 [==============================] - 1s 3ms/step - loss: 0.0923 - val_loss: 0.0912\n",
            "Epoch 108/200\n",
            "235/235 [==============================] - 1s 3ms/step - loss: 0.0922 - val_loss: 0.0912\n",
            "Epoch 109/200\n",
            "235/235 [==============================] - 1s 3ms/step - loss: 0.0922 - val_loss: 0.0912\n",
            "Epoch 110/200\n",
            "235/235 [==============================] - 1s 3ms/step - loss: 0.0922 - val_loss: 0.0912\n",
            "Epoch 111/200\n",
            "235/235 [==============================] - 1s 3ms/step - loss: 0.0922 - val_loss: 0.0912\n",
            "Epoch 112/200\n",
            "235/235 [==============================] - 1s 3ms/step - loss: 0.0922 - val_loss: 0.0912\n",
            "Epoch 113/200\n",
            "235/235 [==============================] - 1s 3ms/step - loss: 0.0922 - val_loss: 0.0912\n",
            "Epoch 114/200\n",
            "235/235 [==============================] - 1s 3ms/step - loss: 0.0922 - val_loss: 0.0912\n",
            "Epoch 115/200\n",
            "235/235 [==============================] - 1s 3ms/step - loss: 0.0922 - val_loss: 0.0912\n",
            "Epoch 116/200\n",
            "235/235 [==============================] - 1s 3ms/step - loss: 0.0922 - val_loss: 0.0912\n",
            "Epoch 117/200\n",
            "235/235 [==============================] - 1s 3ms/step - loss: 0.0922 - val_loss: 0.0911\n",
            "Epoch 118/200\n",
            "235/235 [==============================] - 1s 3ms/step - loss: 0.0922 - val_loss: 0.0912\n",
            "Epoch 119/200\n",
            "235/235 [==============================] - 1s 3ms/step - loss: 0.0922 - val_loss: 0.0912\n",
            "Epoch 120/200\n",
            "235/235 [==============================] - 1s 3ms/step - loss: 0.0922 - val_loss: 0.0912\n",
            "Epoch 121/200\n",
            "235/235 [==============================] - 1s 3ms/step - loss: 0.0922 - val_loss: 0.0911\n",
            "Epoch 122/200\n",
            "235/235 [==============================] - 1s 3ms/step - loss: 0.0922 - val_loss: 0.0911\n",
            "Epoch 123/200\n",
            "235/235 [==============================] - 1s 3ms/step - loss: 0.0922 - val_loss: 0.0912\n",
            "Epoch 124/200\n",
            "235/235 [==============================] - 1s 3ms/step - loss: 0.0922 - val_loss: 0.0912\n",
            "Epoch 125/200\n",
            "235/235 [==============================] - 1s 3ms/step - loss: 0.0922 - val_loss: 0.0912\n",
            "Epoch 126/200\n",
            "235/235 [==============================] - 1s 3ms/step - loss: 0.0922 - val_loss: 0.0911\n",
            "Epoch 127/200\n",
            "235/235 [==============================] - 1s 3ms/step - loss: 0.0921 - val_loss: 0.0911\n",
            "Epoch 128/200\n",
            "235/235 [==============================] - 1s 3ms/step - loss: 0.0921 - val_loss: 0.0911\n",
            "Epoch 129/200\n",
            "235/235 [==============================] - 1s 3ms/step - loss: 0.0921 - val_loss: 0.0911\n",
            "Epoch 130/200\n",
            "235/235 [==============================] - 1s 3ms/step - loss: 0.0921 - val_loss: 0.0911\n",
            "Epoch 131/200\n",
            "235/235 [==============================] - 1s 3ms/step - loss: 0.0921 - val_loss: 0.0912\n",
            "Epoch 132/200\n",
            "235/235 [==============================] - 1s 3ms/step - loss: 0.0921 - val_loss: 0.0912\n",
            "Epoch 133/200\n",
            "235/235 [==============================] - 1s 3ms/step - loss: 0.0921 - val_loss: 0.0912\n",
            "Epoch 134/200\n",
            "235/235 [==============================] - 1s 3ms/step - loss: 0.0921 - val_loss: 0.0911\n",
            "Epoch 135/200\n",
            "235/235 [==============================] - 1s 3ms/step - loss: 0.0921 - val_loss: 0.0911\n",
            "Epoch 136/200\n",
            "235/235 [==============================] - 1s 3ms/step - loss: 0.0921 - val_loss: 0.0911\n",
            "Epoch 137/200\n",
            "235/235 [==============================] - 1s 3ms/step - loss: 0.0921 - val_loss: 0.0911\n",
            "Epoch 138/200\n",
            "235/235 [==============================] - 1s 3ms/step - loss: 0.0921 - val_loss: 0.0911\n",
            "Epoch 139/200\n",
            "235/235 [==============================] - 1s 3ms/step - loss: 0.0921 - val_loss: 0.0911\n",
            "Epoch 140/200\n",
            "235/235 [==============================] - 1s 3ms/step - loss: 0.0921 - val_loss: 0.0911\n",
            "Epoch 141/200\n",
            "235/235 [==============================] - 1s 3ms/step - loss: 0.0921 - val_loss: 0.0911\n",
            "Epoch 142/200\n",
            "235/235 [==============================] - 1s 3ms/step - loss: 0.0921 - val_loss: 0.0911\n",
            "Epoch 143/200\n",
            "235/235 [==============================] - 1s 3ms/step - loss: 0.0921 - val_loss: 0.0910\n",
            "Epoch 144/200\n",
            "235/235 [==============================] - 1s 3ms/step - loss: 0.0921 - val_loss: 0.0911\n",
            "Epoch 145/200\n",
            "235/235 [==============================] - 1s 3ms/step - loss: 0.0921 - val_loss: 0.0912\n",
            "Epoch 146/200\n",
            "235/235 [==============================] - 1s 3ms/step - loss: 0.0921 - val_loss: 0.0911\n",
            "Epoch 147/200\n",
            "235/235 [==============================] - 1s 3ms/step - loss: 0.0921 - val_loss: 0.0911\n",
            "Epoch 148/200\n",
            "235/235 [==============================] - 1s 3ms/step - loss: 0.0921 - val_loss: 0.0910\n",
            "Epoch 149/200\n",
            "235/235 [==============================] - 1s 3ms/step - loss: 0.0921 - val_loss: 0.0911\n",
            "Epoch 150/200\n",
            "235/235 [==============================] - 1s 3ms/step - loss: 0.0920 - val_loss: 0.0911\n",
            "Epoch 151/200\n",
            "235/235 [==============================] - 1s 3ms/step - loss: 0.0921 - val_loss: 0.0911\n",
            "Epoch 152/200\n",
            "235/235 [==============================] - 1s 3ms/step - loss: 0.0920 - val_loss: 0.0910\n",
            "Epoch 153/200\n",
            "235/235 [==============================] - 1s 3ms/step - loss: 0.0921 - val_loss: 0.0911\n",
            "Epoch 154/200\n",
            "235/235 [==============================] - 1s 3ms/step - loss: 0.0920 - val_loss: 0.0910\n",
            "Epoch 155/200\n",
            "235/235 [==============================] - 1s 3ms/step - loss: 0.0920 - val_loss: 0.0911\n",
            "Epoch 156/200\n",
            "235/235 [==============================] - 1s 3ms/step - loss: 0.0920 - val_loss: 0.0910\n",
            "Epoch 157/200\n",
            "235/235 [==============================] - 1s 3ms/step - loss: 0.0920 - val_loss: 0.0910\n",
            "Epoch 158/200\n",
            "235/235 [==============================] - 1s 3ms/step - loss: 0.0920 - val_loss: 0.0910\n",
            "Epoch 159/200\n",
            "235/235 [==============================] - 1s 3ms/step - loss: 0.0920 - val_loss: 0.0910\n",
            "Epoch 160/200\n",
            "235/235 [==============================] - 1s 3ms/step - loss: 0.0920 - val_loss: 0.0910\n",
            "Epoch 161/200\n",
            "235/235 [==============================] - 1s 3ms/step - loss: 0.0920 - val_loss: 0.0910\n",
            "Epoch 162/200\n",
            "235/235 [==============================] - 1s 3ms/step - loss: 0.0920 - val_loss: 0.0909\n",
            "Epoch 163/200\n",
            "235/235 [==============================] - 1s 3ms/step - loss: 0.0920 - val_loss: 0.0910\n",
            "Epoch 164/200\n",
            "235/235 [==============================] - 1s 3ms/step - loss: 0.0920 - val_loss: 0.0910\n",
            "Epoch 165/200\n",
            "235/235 [==============================] - 1s 3ms/step - loss: 0.0920 - val_loss: 0.0910\n",
            "Epoch 166/200\n",
            "235/235 [==============================] - 1s 3ms/step - loss: 0.0920 - val_loss: 0.0910\n",
            "Epoch 167/200\n",
            "235/235 [==============================] - 1s 3ms/step - loss: 0.0920 - val_loss: 0.0910\n",
            "Epoch 168/200\n",
            "235/235 [==============================] - 1s 3ms/step - loss: 0.0920 - val_loss: 0.0910\n",
            "Epoch 169/200\n",
            "235/235 [==============================] - 1s 3ms/step - loss: 0.0920 - val_loss: 0.0910\n",
            "Epoch 170/200\n",
            "235/235 [==============================] - 1s 3ms/step - loss: 0.0920 - val_loss: 0.0910\n",
            "Epoch 171/200\n",
            "235/235 [==============================] - 1s 3ms/step - loss: 0.0920 - val_loss: 0.0910\n",
            "Epoch 172/200\n",
            "235/235 [==============================] - 1s 3ms/step - loss: 0.0920 - val_loss: 0.0910\n",
            "Epoch 173/200\n",
            "235/235 [==============================] - 1s 3ms/step - loss: 0.0920 - val_loss: 0.0910\n",
            "Epoch 174/200\n",
            "235/235 [==============================] - 1s 3ms/step - loss: 0.0920 - val_loss: 0.0910\n",
            "Epoch 175/200\n",
            "235/235 [==============================] - 1s 3ms/step - loss: 0.0920 - val_loss: 0.0910\n",
            "Epoch 176/200\n",
            "235/235 [==============================] - 1s 3ms/step - loss: 0.0920 - val_loss: 0.0910\n",
            "Epoch 177/200\n",
            "235/235 [==============================] - 1s 3ms/step - loss: 0.0920 - val_loss: 0.0909\n",
            "Epoch 178/200\n",
            "235/235 [==============================] - 1s 3ms/step - loss: 0.0920 - val_loss: 0.0909\n",
            "Epoch 179/200\n",
            "235/235 [==============================] - 1s 3ms/step - loss: 0.0920 - val_loss: 0.0910\n",
            "Epoch 180/200\n",
            "235/235 [==============================] - 1s 3ms/step - loss: 0.0920 - val_loss: 0.0910\n",
            "Epoch 181/200\n",
            "235/235 [==============================] - 1s 3ms/step - loss: 0.0919 - val_loss: 0.0910\n",
            "Epoch 182/200\n",
            "235/235 [==============================] - 1s 3ms/step - loss: 0.0919 - val_loss: 0.0910\n",
            "Epoch 183/200\n",
            "235/235 [==============================] - 1s 3ms/step - loss: 0.0919 - val_loss: 0.0910\n",
            "Epoch 184/200\n",
            "235/235 [==============================] - 1s 3ms/step - loss: 0.0919 - val_loss: 0.0910\n",
            "Epoch 185/200\n",
            "235/235 [==============================] - 1s 3ms/step - loss: 0.0919 - val_loss: 0.0909\n",
            "Epoch 186/200\n",
            "235/235 [==============================] - 1s 3ms/step - loss: 0.0919 - val_loss: 0.0910\n",
            "Epoch 187/200\n",
            "235/235 [==============================] - 1s 3ms/step - loss: 0.0919 - val_loss: 0.0909\n",
            "Epoch 188/200\n",
            "235/235 [==============================] - 1s 3ms/step - loss: 0.0919 - val_loss: 0.0909\n",
            "Epoch 189/200\n",
            "235/235 [==============================] - 1s 3ms/step - loss: 0.0919 - val_loss: 0.0910\n",
            "Epoch 190/200\n",
            "235/235 [==============================] - 1s 3ms/step - loss: 0.0919 - val_loss: 0.0909\n",
            "Epoch 191/200\n",
            "235/235 [==============================] - 1s 3ms/step - loss: 0.0919 - val_loss: 0.0909\n",
            "Epoch 192/200\n",
            "235/235 [==============================] - 1s 3ms/step - loss: 0.0919 - val_loss: 0.0909\n",
            "Epoch 193/200\n",
            "235/235 [==============================] - 1s 3ms/step - loss: 0.0919 - val_loss: 0.0909\n",
            "Epoch 194/200\n",
            "235/235 [==============================] - 1s 3ms/step - loss: 0.0919 - val_loss: 0.0909\n",
            "Epoch 195/200\n",
            "235/235 [==============================] - 1s 3ms/step - loss: 0.0919 - val_loss: 0.0909\n",
            "Epoch 196/200\n",
            "235/235 [==============================] - 1s 3ms/step - loss: 0.0919 - val_loss: 0.0909\n",
            "Epoch 197/200\n",
            "235/235 [==============================] - 1s 3ms/step - loss: 0.0919 - val_loss: 0.0909\n",
            "Epoch 198/200\n",
            "235/235 [==============================] - 1s 4ms/step - loss: 0.0919 - val_loss: 0.0909\n",
            "Epoch 199/200\n",
            "235/235 [==============================] - 1s 4ms/step - loss: 0.0919 - val_loss: 0.0909\n",
            "Epoch 200/200\n",
            "235/235 [==============================] - 1s 4ms/step - loss: 0.0919 - val_loss: 0.0909\n"
          ],
          "name": "stdout"
        },
        {
          "output_type": "execute_result",
          "data": {
            "text/plain": [
              "<tensorflow.python.keras.callbacks.History at 0x7f3290080668>"
            ]
          },
          "metadata": {
            "tags": []
          },
          "execution_count": 11
        }
      ]
    },
    {
      "cell_type": "code",
      "metadata": {
        "id": "qLp_lxvQl49m"
      },
      "source": [
        "# encode and decode some digits\n",
        "# note that we take them from the *test* set\n",
        "encoded_imgs = encoder.predict(x_test)\n",
        "decoded_imgs = decoder.predict(encoded_imgs)"
      ],
      "execution_count": 12,
      "outputs": []
    },
    {
      "cell_type": "code",
      "metadata": {
        "id": "NV9Zs-6_mx7C",
        "outputId": "cfa3f19e-de15-4f8c-b951-b4a23d970b1e",
        "colab": {
          "base_uri": "https://localhost:8080/",
          "height": 200
        }
      },
      "source": [
        "# use Matplotlib (don't ask)\n",
        "import matplotlib.pyplot as plt\n",
        "\n",
        "n = 10  # how many digits we will display\n",
        "plt.figure(figsize=(10, 4))\n",
        "for i in range(n):\n",
        "    # display original\n",
        "    ax = plt.subplot(2, n, i + 1)\n",
        "    plt.imshow(x_test[i].reshape(28, 28))\n",
        "    plt.gray()\n",
        "    ax.get_xaxis().set_visible(False)\n",
        "    ax.get_yaxis().set_visible(False)\n",
        "\n",
        "    # display reconstruction\n",
        "    ax = plt.subplot(2, n, i + 1 + n)\n",
        "    plt.imshow(decoded_imgs[i].reshape(28, 28))\n",
        "    plt.gray()\n",
        "    ax.get_xaxis().set_visible(False)\n",
        "    ax.get_yaxis().set_visible(False)\n",
        "plt.show()"
      ],
      "execution_count": 13,
      "outputs": [
        {
          "output_type": "display_data",
          "data": {
            "image/png": "[encoded data removed]",
            "text/plain": [
              "<Figure size 720x288 with 20 Axes>"
            ]
          },
          "metadata": {
            "tags": [],
            "needs_background": "light"
          }
        }
      ]
    },
    {
      "cell_type": "code",
      "metadata": {
        "id": "jNm3hfIanMKS",
        "outputId": "2450f242-a2eb-4ae4-e313-2d9c90e27a40",
        "colab": {
          "base_uri": "https://localhost:8080/"
        }
      },
      "source": [
        "from sklearn.decomposition import PCA\n",
        "# keep the first two principal components of the data\n",
        "pca = PCA(n_components=2)\n",
        "# fit PCA model to breast cancer data\n",
        "pca.fit(x_test)\n",
        "# transform data onto the first two principal components\n",
        "X_pca = pca.transform(x_test)\n",
        "print(\"Original shape: {}\".format(str(x_test.shape)))\n",
        "print(\"Reduced shape: {}\".format(str(X_pca.shape)))"
      ],
      "execution_count": 14,
      "outputs": [
        {
          "output_type": "stream",
          "text": [
            "Original shape: (10000, 784)\n",
            "Reduced shape: (10000, 2)\n"
          ],
          "name": "stdout"
        }
      ]
    }
  ]
}